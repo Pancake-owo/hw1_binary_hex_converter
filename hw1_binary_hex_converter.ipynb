{
 "cells": [
  {
   "cell_type": "code",
   "execution_count": 29,
   "id": "abfd13b9-2dde-40f5-9f6b-eb4eeaf39967",
   "metadata": {},
   "outputs": [
    {
     "name": "stdin",
     "output_type": "stream",
     "text": [
      "請輸入 0-255 的數字 (輸入 q 離開):  14\n"
     ]
    },
    {
     "name": "stdout",
     "output_type": "stream",
     "text": [
      "二進位: 00001110\n",
      "十六進位: 0E\n",
      "\n"
     ]
    },
    {
     "name": "stdin",
     "output_type": "stream",
     "text": [
      "請輸入 0-255 的數字 (輸入 q 離開):  68\n"
     ]
    },
    {
     "name": "stdout",
     "output_type": "stream",
     "text": [
      "二進位: 01000100\n",
      "十六進位: 44\n",
      "\n"
     ]
    },
    {
     "name": "stdin",
     "output_type": "stream",
     "text": [
      "請輸入 0-255 的數字 (輸入 q 離開):  q\n"
     ]
    },
    {
     "name": "stdout",
     "output_type": "stream",
     "text": [
      "Bye bye!\n"
     ]
    }
   ],
   "source": [
    "def convert():\n",
    "    while True:\n",
    "        num = input(\"請輸入 0-255 的數字 (輸入 q 離開): \")\n",
    "        \n",
    "        if num == 'q':  # 使用者的退出指令\n",
    "            print(\"Bye bye!\")\n",
    "            break\n",
    "\n",
    "        if not num.isdigit():  # 檢查輸入的是否是數字\n",
    "            print(\"請輸入有效數字\")\n",
    "            continue\n",
    "\n",
    "        num = int(num)\n",
    "        if num < 0 or num > 255:  # 檢查輸入範圍\n",
    "            print(\"超過範圍，請輸入 0-255\")\n",
    "            continue\n",
    "\n",
    "        # 轉換為二進位（次方方法）\n",
    "        binary = \"\"\n",
    "        for i in range(7, -1, -1):  # 範圍從 2^7 到 2^0\n",
    "            if num >= 2**i:\n",
    "                binary += \"1\"\n",
    "                num -= 2**i\n",
    "            else:\n",
    "                binary += \"0\"\n",
    "\n",
    "        # 從二進位轉換為十六進位（手動分組）\n",
    "        hex_map = \"0123456789ABCDEF\"\n",
    "        hex1 = binary[:4]  # 取前4位\n",
    "        hex2 = binary[4:]  # 取後4位\n",
    "\n",
    "        # 計算十六進位\n",
    "        h1, h2 = 0, 0\n",
    "        for j in range(4):\n",
    "            if hex1[j] == \"1\":\n",
    "                h1 += 2**(3 - j)\n",
    "            if hex2[j] == \"1\":\n",
    "                h2 += 2**(3 - j)\n",
    "\n",
    "        hex_result = hex_map[h1] + hex_map[h2]  # 總結十六進位\n",
    "\n",
    "        print(f\"二進位: {binary}\")\n",
    "        print(f\"十六進位: {hex_result}\\n\")\n",
    "\n",
    "convert()  #執行程式"
   ]
  },
  {
   "cell_type": "code",
   "execution_count": null,
   "id": "bdf45633-cab4-43df-ad79-e366956506ba",
   "metadata": {},
   "outputs": [],
   "source": []
  }
 ],
 "metadata": {
  "kernelspec": {
   "display_name": "Python 3 (ipykernel)",
   "language": "python",
   "name": "python3"
  },
  "language_info": {
   "codemirror_mode": {
    "name": "ipython",
    "version": 3
   },
   "file_extension": ".py",
   "mimetype": "text/x-python",
   "name": "python",
   "nbconvert_exporter": "python",
   "pygments_lexer": "ipython3",
   "version": "3.12.7"
  }
 },
 "nbformat": 4,
 "nbformat_minor": 5
}
